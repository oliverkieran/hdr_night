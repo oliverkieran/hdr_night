{
 "cells": [
  {
   "cell_type": "code",
   "execution_count": 2,
   "id": "afd0b941",
   "metadata": {},
   "outputs": [],
   "source": [
    "import tensorflow as tf\n",
    "import imageio\n",
    "import numpy as np\n",
    "import sys\n",
    "from datetime import datetime\n",
    "\n",
    "from load_dataset import load_train_patch, load_val_data\n",
    "from model import PUNET\n",
    "import utils\n",
    "import vgg\n",
    "import os"
   ]
  },
  {
   "cell_type": "code",
   "execution_count": 4,
   "id": "07777a51",
   "metadata": {},
   "outputs": [],
   "source": [
    "\n",
    "\n",
    "#num = len([name for name in os.listdir(val_directory_phone)\n",
    "#                          if os.path.isfile(os.path.join(val_directory_phone, name))])"
   ]
  },
  {
   "cell_type": "code",
   "execution_count": 10,
   "id": "a8109eb8",
   "metadata": {},
   "outputs": [],
   "source": [
    "_, rows, cols, in_channels = [i for i in phone_.get_shape()]"
   ]
  },
  {
   "cell_type": "code",
   "execution_count": 13,
   "id": "25e811df",
   "metadata": {},
   "outputs": [
    {
     "data": {
      "text/plain": [
       "4"
      ]
     },
     "execution_count": 13,
     "metadata": {},
     "output_type": "execute_result"
    }
   ],
   "source": [
    "in_channels"
   ]
  },
  {
   "cell_type": "code",
   "execution_count": null,
   "id": "248d5934",
   "metadata": {},
   "outputs": [],
   "source": []
  }
 ],
 "metadata": {
  "kernelspec": {
   "display_name": "Python 3",
   "language": "python",
   "name": "python3"
  },
  "language_info": {
   "codemirror_mode": {
    "name": "ipython",
    "version": 3
   },
   "file_extension": ".py",
   "mimetype": "text/x-python",
   "name": "python",
   "nbconvert_exporter": "python",
   "pygments_lexer": "ipython3",
   "version": "3.9.4"
  }
 },
 "nbformat": 4,
 "nbformat_minor": 5
}
